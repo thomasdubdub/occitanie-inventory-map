{
 "cells": [
  {
   "cell_type": "markdown",
   "metadata": {},
   "source": [
    "# Inventory records of cultural heritage of the French region Occitanie (Maps)"
   ]
  },
  {
   "cell_type": "markdown",
   "metadata": {},
   "source": [
    "#### Open data files (incl. geojson) can be found here: https://www.data.gouv.fr/fr/datasets/5bfdeafa9ce2e70269bea587/"
   ]
  },
  {
   "cell_type": "code",
   "execution_count": 1,
   "metadata": {},
   "outputs": [],
   "source": [
    "fname = \"inventaire-general-du-patrimoine-culturel-doccitanie.geojson\"\n",
    "occitanie_barycenter = (43.6685, 2.226)\n",
    "default_zoom = 8"
   ]
  },
  {
   "cell_type": "code",
   "execution_count": 2,
   "metadata": {},
   "outputs": [],
   "source": [
    "import geopandas as gpd\n",
    "from ipyleaflet import Map, Heatmap, basemaps, basemap_to_tiles, Marker, MarkerCluster\n",
    "from tqdm import trange"
   ]
  },
  {
   "cell_type": "markdown",
   "metadata": {},
   "source": [
    "#### <br> Loading data as a table (pandas dataframe)"
   ]
  },
  {
   "cell_type": "code",
   "execution_count": 3,
   "metadata": {},
   "outputs": [
    {
     "data": {
      "text/html": [
       "<div>\n",
       "<style scoped>\n",
       "    .dataframe tbody tr th:only-of-type {\n",
       "        vertical-align: middle;\n",
       "    }\n",
       "\n",
       "    .dataframe tbody tr th {\n",
       "        vertical-align: top;\n",
       "    }\n",
       "\n",
       "    .dataframe thead th {\n",
       "        text-align: right;\n",
       "    }\n",
       "</style>\n",
       "<table border=\"1\" class=\"dataframe\">\n",
       "  <thead>\n",
       "    <tr style=\"text-align: right;\">\n",
       "      <th></th>\n",
       "      <th>inte</th>\n",
       "      <th>cada</th>\n",
       "      <th>cant</th>\n",
       "      <th>doss</th>\n",
       "      <th>murs</th>\n",
       "      <th>aire</th>\n",
       "      <th>zone</th>\n",
       "      <th>noms</th>\n",
       "      <th>appl</th>\n",
       "      <th>typo</th>\n",
       "      <th>...</th>\n",
       "      <th>affe</th>\n",
       "      <th>domn</th>\n",
       "      <th>dmis</th>\n",
       "      <th>micr</th>\n",
       "      <th>mfich</th>\n",
       "      <th>sclx</th>\n",
       "      <th>web</th>\n",
       "      <th>geometry</th>\n",
       "      <th>lon</th>\n",
       "      <th>lat</th>\n",
       "    </tr>\n",
       "  </thead>\n",
       "  <tbody>\n",
       "    <tr>\n",
       "      <th>30692</th>\n",
       "      <td>None</td>\n",
       "      <td>2008 CH 795</td>\n",
       "      <td>None</td>\n",
       "      <td>dossier individuel</td>\n",
       "      <td>crépi</td>\n",
       "      <td>Cahors centre</td>\n",
       "      <td>Lambert0</td>\n",
       "      <td>Cohou Myriam ; Charrier Anaïs</td>\n",
       "      <td>None</td>\n",
       "      <td>None</td>\n",
       "      <td>...</td>\n",
       "      <td>None</td>\n",
       "      <td>None</td>\n",
       "      <td>None</td>\n",
       "      <td>None</td>\n",
       "      <td>None</td>\n",
       "      <td>None</td>\n",
       "      <td>None</td>\n",
       "      <td>POINT (1.44075837848 44.4507370916)</td>\n",
       "      <td>1.440758</td>\n",
       "      <td>44.450737</td>\n",
       "    </tr>\n",
       "    <tr>\n",
       "      <th>6652</th>\n",
       "      <td>None</td>\n",
       "      <td>2013 AK 393</td>\n",
       "      <td>Lavaur</td>\n",
       "      <td>dossier individuel</td>\n",
       "      <td>maçonnerie ; enduit</td>\n",
       "      <td>Lavaur faubourg</td>\n",
       "      <td>Lambert0</td>\n",
       "      <td>Vanacker Céline</td>\n",
       "      <td>None</td>\n",
       "      <td>None</td>\n",
       "      <td>...</td>\n",
       "      <td>None</td>\n",
       "      <td>None</td>\n",
       "      <td>None</td>\n",
       "      <td>None</td>\n",
       "      <td>None</td>\n",
       "      <td>None</td>\n",
       "      <td>None</td>\n",
       "      <td>POINT (1.79437213708 43.6895628711)</td>\n",
       "      <td>1.794372</td>\n",
       "      <td>43.689563</td>\n",
       "    </tr>\n",
       "    <tr>\n",
       "      <th>31447</th>\n",
       "      <td>None</td>\n",
       "      <td>1826 B 648 ; 2011 AE 1345</td>\n",
       "      <td>Lavaur</td>\n",
       "      <td>dossier individuel</td>\n",
       "      <td>brique ; bois ; pan de bois ; enduit ; brique ...</td>\n",
       "      <td>Lavaur centre</td>\n",
       "      <td>Lambert0</td>\n",
       "      <td>Vanacker Céline</td>\n",
       "      <td>None</td>\n",
       "      <td>None</td>\n",
       "      <td>...</td>\n",
       "      <td>None</td>\n",
       "      <td>None</td>\n",
       "      <td>None</td>\n",
       "      <td>None</td>\n",
       "      <td>None</td>\n",
       "      <td>None</td>\n",
       "      <td>None</td>\n",
       "      <td>POINT (1.79437213708 43.6895628711)</td>\n",
       "      <td>1.794372</td>\n",
       "      <td>43.689563</td>\n",
       "    </tr>\n",
       "    <tr>\n",
       "      <th>2376</th>\n",
       "      <td>None</td>\n",
       "      <td>1830 E2 ; 2018 E</td>\n",
       "      <td>None</td>\n",
       "      <td>dossier individuel</td>\n",
       "      <td>calcaire ; moellon</td>\n",
       "      <td>None</td>\n",
       "      <td>Lambert0</td>\n",
       "      <td>Séraphin Gilles ; Scellès Maurice</td>\n",
       "      <td>None</td>\n",
       "      <td>None</td>\n",
       "      <td>...</td>\n",
       "      <td>None</td>\n",
       "      <td>None</td>\n",
       "      <td>None</td>\n",
       "      <td>None</td>\n",
       "      <td>None</td>\n",
       "      <td>None</td>\n",
       "      <td>None</td>\n",
       "      <td>POINT (1.46272754104 44.9899523314)</td>\n",
       "      <td>1.462728</td>\n",
       "      <td>44.989952</td>\n",
       "    </tr>\n",
       "  </tbody>\n",
       "</table>\n",
       "<p>4 rows × 86 columns</p>\n",
       "</div>"
      ],
      "text/plain": [
       "       inte                       cada    cant                doss  \\\n",
       "30692  None                2008 CH 795    None  dossier individuel   \n",
       "6652   None                2013 AK 393  Lavaur  dossier individuel   \n",
       "31447  None  1826 B 648 ; 2011 AE 1345  Lavaur  dossier individuel   \n",
       "2376   None           1830 E2 ; 2018 E    None  dossier individuel   \n",
       "\n",
       "                                                    murs             aire  \\\n",
       "30692                                              crépi    Cahors centre   \n",
       "6652                                 maçonnerie ; enduit  Lavaur faubourg   \n",
       "31447  brique ; bois ; pan de bois ; enduit ; brique ...    Lavaur centre   \n",
       "2376                                  calcaire ; moellon             None   \n",
       "\n",
       "           zone                               noms  appl  typo    ...      \\\n",
       "30692  Lambert0      Cohou Myriam ; Charrier Anaïs  None  None    ...       \n",
       "6652   Lambert0                    Vanacker Céline  None  None    ...       \n",
       "31447  Lambert0                    Vanacker Céline  None  None    ...       \n",
       "2376   Lambert0  Séraphin Gilles ; Scellès Maurice  None  None    ...       \n",
       "\n",
       "       affe  domn  dmis  micr mfich  sclx   web  \\\n",
       "30692  None  None  None  None  None  None  None   \n",
       "6652   None  None  None  None  None  None  None   \n",
       "31447  None  None  None  None  None  None  None   \n",
       "2376   None  None  None  None  None  None  None   \n",
       "\n",
       "                                  geometry       lon        lat  \n",
       "30692  POINT (1.44075837848 44.4507370916)  1.440758  44.450737  \n",
       "6652   POINT (1.79437213708 43.6895628711)  1.794372  43.689563  \n",
       "31447  POINT (1.79437213708 43.6895628711)  1.794372  43.689563  \n",
       "2376   POINT (1.46272754104 44.9899523314)  1.462728  44.989952  \n",
       "\n",
       "[4 rows x 86 columns]"
      ]
     },
     "execution_count": 3,
     "metadata": {},
     "output_type": "execute_result"
    }
   ],
   "source": [
    "gdf = gpd.read_file(fname)\n",
    "gdf = gdf[gdf.geometry.notnull()]\n",
    "gdf['lon'] = gdf.geometry.apply(lambda p: p.x)\n",
    "gdf['lat'] = gdf.geometry.apply(lambda p: p.y)\n",
    "gdf.sample(4)"
   ]
  },
  {
   "cell_type": "code",
   "execution_count": 4,
   "metadata": {},
   "outputs": [
    {
     "name": "stdout",
     "output_type": "stream",
     "text": [
      "size of the table: (32803, 86) \n",
      "\n",
      "Fields of the table:\n"
     ]
    },
    {
     "data": {
      "text/plain": [
       "Index(['inte', 'cada', 'cant', 'doss', 'murs', 'aire', 'zone', 'noms', 'appl',\n",
       "       'typo', 'dbor', 'ref', 'reg', 'coor', 'stat', 'jatt', 'etud', 'dpt',\n",
       "       'autr', 'date', 'copy', 'tico', 'insee', 'scle', 'denq', 'jdat', 'deno',\n",
       "       'com', 'obs', 'impl', 'esca', 'refe', 'vert', 'edif', 'coorm', 'coll',\n",
       "       'couv', 'lieu', 'wcom', 'etat', 'etag', 'dmaj', 'parn', 'toit', 'elev',\n",
       "       'adrs', 'vout', 'dims', 'pden', 'tech', 'remp', 'refp', 'part', 'scld',\n",
       "       'depl', 'hydr', 'prep', 'repr', 'doclie', 'pers', 'plan', 'visi',\n",
       "       'actu', 'site', 'renv', 'dpro', 'ppro', 'voca', 'apro', 'ener', 'genr',\n",
       "       'ploc', 'mhpp', 'psta', 'rema', 'paff', 'affe', 'domn', 'dmis', 'micr',\n",
       "       'mfich', 'sclx', 'web', 'geometry', 'lon', 'lat'],\n",
       "      dtype='object')"
      ]
     },
     "execution_count": 4,
     "metadata": {},
     "output_type": "execute_result"
    }
   ],
   "source": [
    "print('size of the table: {} \\n'.format(gdf.shape))\n",
    "print('Fields of the table:')\n",
    "gdf.columns"
   ]
  },
  {
   "cell_type": "markdown",
   "metadata": {},
   "source": [
    "#### <br> Heatmap"
   ]
  },
  {
   "cell_type": "code",
   "execution_count": 5,
   "metadata": {},
   "outputs": [
    {
     "data": {
      "application/vnd.jupyter.widget-view+json": {
       "model_id": "7d449a20cac645d6bbaf853765f075d9",
       "version_major": 2,
       "version_minor": 0
      },
      "text/plain": [
       "Map(basemap={'url': 'https://{s}.tile.openstreetmap.org/{z}/{x}/{y}.png', 'max_zoom': 19, 'attribution': 'Map …"
      ]
     },
     "metadata": {},
     "output_type": "display_data"
    }
   ],
   "source": [
    "terrain = basemap_to_tiles(basemaps.Stamen.Terrain)\n",
    "m = Map(layers=(terrain, ), center=occitanie_barycenter, zoom=default_zoom)\n",
    "locations = list(zip(gdf.lat, gdf.lon))\n",
    "heatmap = Heatmap(locations=locations, radius=15)\n",
    "m.add_layer(heatmap)\n",
    "m"
   ]
  },
  {
   "cell_type": "markdown",
   "metadata": {},
   "source": [
    "#### <br> All records locations"
   ]
  },
  {
   "cell_type": "code",
   "execution_count": null,
   "metadata": {},
   "outputs": [],
   "source": [
    "m2 = Map(layers=(terrain, ), center=occitanie_barycenter, zoom=7)\n",
    "marker_list = []\n",
    "for i in range(gdf.shape[0]):\n",
    "    s = gdf.iloc[i]\n",
    "    marker_list.append(Marker(location=(s.lat, s.lon), draggable=False, title=s.tico))\n",
    "marker_cluster = MarkerCluster(\n",
    "    markers=marker_list\n",
    ")\n",
    "m2.add_layer(marker_cluster)\n",
    "m2"
   ]
  },
  {
   "cell_type": "markdown",
   "metadata": {},
   "source": [
    "#### <br> Top contributors"
   ]
  },
  {
   "cell_type": "code",
   "execution_count": 7,
   "metadata": {},
   "outputs": [
    {
     "data": {
      "text/plain": [
       "Séraphin Gilles ; Scellès Maurice             1479\n",
       "Friquart Louise-Emmanuelle ; Krispin Laure    1414\n",
       "Fock-Chow-Tho Cécile                          1332\n",
       "Gueguen Alexandra                             1082\n",
       "Vanacker Céline                               1025\n",
       "Servant Sonia                                 1006\n",
       "Comet Anaïs                                    977\n",
       "Wienin Michel                                  893\n",
       "Stadnicki Carole                               857\n",
       "Cassan Elodie                                  779\n",
       "Béa Adeline                                    722\n",
       "Chabbert Roland                                682\n",
       "Name: noms, dtype: int64"
      ]
     },
     "execution_count": 7,
     "metadata": {},
     "output_type": "execute_result"
    }
   ],
   "source": [
    "gdf['noms'].value_counts().nlargest(12)"
   ]
  },
  {
   "cell_type": "markdown",
   "metadata": {},
   "source": [
    "#### <br> Focus on one of the top contributors"
   ]
  },
  {
   "cell_type": "code",
   "execution_count": 9,
   "metadata": {},
   "outputs": [
    {
     "name": "stderr",
     "output_type": "stream",
     "text": [
      "100%|██████████| 682/682 [00:02<00:00, 320.45it/s]\n"
     ]
    },
    {
     "data": {
      "application/vnd.jupyter.widget-view+json": {
       "model_id": "303debb2900c43cba56fa2fa5672a83a",
       "version_major": 2,
       "version_minor": 0
      },
      "text/plain": [
       "Map(basemap={'url': 'https://{s}.tile.openstreetmap.org/{z}/{x}/{y}.png', 'max_zoom': 19, 'attribution': 'Map …"
      ]
     },
     "metadata": {},
     "output_type": "display_data"
    }
   ],
   "source": [
    "gdf3 = gdf.query('noms == \"Chabbert Roland\"')\n",
    "m3 = Map(layers=(terrain, ), center=occitanie_barycenter, zoom=7)\n",
    "marker_list_3 = []\n",
    "for i in trange(gdf3.shape[0]):\n",
    "    s = gdf3.iloc[i]\n",
    "    marker = Marker(location=(s.lat, s.lon), draggable=False, title=s.tico)\n",
    "    marker_list_3.append(marker)\n",
    "marker_cluster_3 = MarkerCluster(markers=marker_list_3)\n",
    "m3.add_layer(marker_cluster_3)\n",
    "m3"
   ]
  },
  {
   "cell_type": "code",
   "execution_count": null,
   "metadata": {},
   "outputs": [],
   "source": []
  }
 ],
 "metadata": {
  "kernelspec": {
   "display_name": "Python [default]",
   "language": "python",
   "name": "python3"
  },
  "language_info": {
   "codemirror_mode": {
    "name": "ipython",
    "version": 3
   },
   "file_extension": ".py",
   "mimetype": "text/x-python",
   "name": "python",
   "nbconvert_exporter": "python",
   "pygments_lexer": "ipython3",
   "version": "3.6.6"
  }
 },
 "nbformat": 4,
 "nbformat_minor": 2
}
