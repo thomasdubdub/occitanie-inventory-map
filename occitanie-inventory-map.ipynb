{
 "cells": [
  {
   "cell_type": "markdown",
   "metadata": {},
   "source": [
    "# Inventory records of cultural heritage of the French region Occitanie (Maps)"
   ]
  },
  {
   "cell_type": "markdown",
   "metadata": {},
   "source": [
    "#### Open data files (incl. geojson) can be found here: https://www.data.gouv.fr/fr/datasets/5bfdeafa9ce2e70269bea587/"
   ]
  },
  {
   "cell_type": "code",
   "execution_count": 1,
   "metadata": {},
   "outputs": [],
   "source": [
    "fname = \"inventaire-general-du-patrimoine-culturel-doccitanie.geojson\"\n",
    "occitanie_barycenter = (43.6685, 2.226)\n",
    "default_zoom = 8"
   ]
  },
  {
   "cell_type": "code",
   "execution_count": 2,
   "metadata": {},
   "outputs": [],
   "source": [
    "import geopandas as gpd\n",
    "from ipyleaflet import Map, Heatmap, basemaps, basemap_to_tiles, Marker, MarkerCluster\n",
    "from tqdm import trange\n",
    "from ipywidgets import Layout\n",
    "from ipywidgets.embed import embed_minimal_html"
   ]
  },
  {
   "cell_type": "markdown",
   "metadata": {},
   "source": [
    "#### <br> Loading data as a table (pandas dataframe)"
   ]
  },
  {
   "cell_type": "code",
   "execution_count": 3,
   "metadata": {},
   "outputs": [
    {
     "data": {
      "text/html": [
       "<div>\n",
       "<style scoped>\n",
       "    .dataframe tbody tr th:only-of-type {\n",
       "        vertical-align: middle;\n",
       "    }\n",
       "\n",
       "    .dataframe tbody tr th {\n",
       "        vertical-align: top;\n",
       "    }\n",
       "\n",
       "    .dataframe thead th {\n",
       "        text-align: right;\n",
       "    }\n",
       "</style>\n",
       "<table border=\"1\" class=\"dataframe\">\n",
       "  <thead>\n",
       "    <tr style=\"text-align: right;\">\n",
       "      <th></th>\n",
       "      <th>inte</th>\n",
       "      <th>cada</th>\n",
       "      <th>cant</th>\n",
       "      <th>doss</th>\n",
       "      <th>murs</th>\n",
       "      <th>aire</th>\n",
       "      <th>zone</th>\n",
       "      <th>noms</th>\n",
       "      <th>appl</th>\n",
       "      <th>typo</th>\n",
       "      <th>...</th>\n",
       "      <th>affe</th>\n",
       "      <th>domn</th>\n",
       "      <th>dmis</th>\n",
       "      <th>micr</th>\n",
       "      <th>mfich</th>\n",
       "      <th>sclx</th>\n",
       "      <th>web</th>\n",
       "      <th>geometry</th>\n",
       "      <th>lon</th>\n",
       "      <th>lat</th>\n",
       "    </tr>\n",
       "  </thead>\n",
       "  <tbody>\n",
       "    <tr>\n",
       "      <th>4564</th>\n",
       "      <td>None</td>\n",
       "      <td>1988 A 343</td>\n",
       "      <td>Saverdun</td>\n",
       "      <td>dossier individuel</td>\n",
       "      <td>calcaire ; moellon ; brique crue ; maçonnerie ...</td>\n",
       "      <td>Communauté de communes du Pays de Pamiers</td>\n",
       "      <td>Lambert0</td>\n",
       "      <td>Claeys Laurent ; Fournier Claire</td>\n",
       "      <td>dite de La Bourdette</td>\n",
       "      <td>exploitation agricole en habitat dispersé, com...</td>\n",
       "      <td>...</td>\n",
       "      <td>None</td>\n",
       "      <td>None</td>\n",
       "      <td>None</td>\n",
       "      <td>None</td>\n",
       "      <td>None</td>\n",
       "      <td>None</td>\n",
       "      <td>None</td>\n",
       "      <td>POINT (1.4996220667 43.1866045103)</td>\n",
       "      <td>1.499622</td>\n",
       "      <td>43.186605</td>\n",
       "    </tr>\n",
       "    <tr>\n",
       "      <th>21676</th>\n",
       "      <td>None</td>\n",
       "      <td>1834 A 206 ; 1986 A 382</td>\n",
       "      <td>Dourgne</td>\n",
       "      <td>dossier individuel</td>\n",
       "      <td>pan de bois ; enduit</td>\n",
       "      <td>Parc Naturel Régional du Haut-Languedoc</td>\n",
       "      <td>Lambert0</td>\n",
       "      <td>Despis Cécile</td>\n",
       "      <td>None</td>\n",
       "      <td>None</td>\n",
       "      <td>...</td>\n",
       "      <td>None</td>\n",
       "      <td>None</td>\n",
       "      <td>None</td>\n",
       "      <td>None</td>\n",
       "      <td>None</td>\n",
       "      <td>None</td>\n",
       "      <td>None</td>\n",
       "      <td>POINT (2.08031337654 43.4412492469)</td>\n",
       "      <td>2.080313</td>\n",
       "      <td>43.441249</td>\n",
       "    </tr>\n",
       "    <tr>\n",
       "      <th>28642</th>\n",
       "      <td>None</td>\n",
       "      <td>310806AB0023</td>\n",
       "      <td>None</td>\n",
       "      <td>dossier individuel</td>\n",
       "      <td>brique ; béton ; enduit</td>\n",
       "      <td>Toulouse faubourg</td>\n",
       "      <td>Lambert3</td>\n",
       "      <td>Prat Nathalie ; Friquart Louise-Emmanuelle ; K...</td>\n",
       "      <td>None</td>\n",
       "      <td>None</td>\n",
       "      <td>...</td>\n",
       "      <td>None</td>\n",
       "      <td>None</td>\n",
       "      <td>None</td>\n",
       "      <td>None</td>\n",
       "      <td>None</td>\n",
       "      <td>None</td>\n",
       "      <td>None</td>\n",
       "      <td>POINT (1.43167293364 43.5963814303)</td>\n",
       "      <td>1.431673</td>\n",
       "      <td>43.596381</td>\n",
       "    </tr>\n",
       "    <tr>\n",
       "      <th>16050</th>\n",
       "      <td>None</td>\n",
       "      <td>2005 AD 29</td>\n",
       "      <td>None</td>\n",
       "      <td>dossier individuel</td>\n",
       "      <td>None</td>\n",
       "      <td>Terrasses et Vallée de l'Aveyron ouest</td>\n",
       "      <td>Lambert0</td>\n",
       "      <td>Ruefly Sandrine ; Croce Christelle</td>\n",
       "      <td>None</td>\n",
       "      <td>château d'eau en bouchon de champagne</td>\n",
       "      <td>...</td>\n",
       "      <td>None</td>\n",
       "      <td>None</td>\n",
       "      <td>None</td>\n",
       "      <td>None</td>\n",
       "      <td>None</td>\n",
       "      <td>None</td>\n",
       "      <td>None</td>\n",
       "      <td>POINT (1.44856431622 44.0815971851)</td>\n",
       "      <td>1.448564</td>\n",
       "      <td>44.081597</td>\n",
       "    </tr>\n",
       "  </tbody>\n",
       "</table>\n",
       "<p>4 rows × 86 columns</p>\n",
       "</div>"
      ],
      "text/plain": [
       "       inte                     cada      cant                doss  \\\n",
       "4564   None               1988 A 343  Saverdun  dossier individuel   \n",
       "21676  None  1834 A 206 ; 1986 A 382   Dourgne  dossier individuel   \n",
       "28642  None             310806AB0023      None  dossier individuel   \n",
       "16050  None               2005 AD 29      None  dossier individuel   \n",
       "\n",
       "                                                    murs  \\\n",
       "4564   calcaire ; moellon ; brique crue ; maçonnerie ...   \n",
       "21676                               pan de bois ; enduit   \n",
       "28642                            brique ; béton ; enduit   \n",
       "16050                                               None   \n",
       "\n",
       "                                            aire      zone  \\\n",
       "4564   Communauté de communes du Pays de Pamiers  Lambert0   \n",
       "21676    Parc Naturel Régional du Haut-Languedoc  Lambert0   \n",
       "28642                          Toulouse faubourg  Lambert3   \n",
       "16050     Terrasses et Vallée de l'Aveyron ouest  Lambert0   \n",
       "\n",
       "                                                    noms  \\\n",
       "4564                    Claeys Laurent ; Fournier Claire   \n",
       "21676                                      Despis Cécile   \n",
       "28642  Prat Nathalie ; Friquart Louise-Emmanuelle ; K...   \n",
       "16050                 Ruefly Sandrine ; Croce Christelle   \n",
       "\n",
       "                       appl  \\\n",
       "4564   dite de La Bourdette   \n",
       "21676                  None   \n",
       "28642                  None   \n",
       "16050                  None   \n",
       "\n",
       "                                                    typo    ...      affe  \\\n",
       "4564   exploitation agricole en habitat dispersé, com...    ...      None   \n",
       "21676                                               None    ...      None   \n",
       "28642                                               None    ...      None   \n",
       "16050              château d'eau en bouchon de champagne    ...      None   \n",
       "\n",
       "       domn  dmis  micr mfich  sclx   web  \\\n",
       "4564   None  None  None  None  None  None   \n",
       "21676  None  None  None  None  None  None   \n",
       "28642  None  None  None  None  None  None   \n",
       "16050  None  None  None  None  None  None   \n",
       "\n",
       "                                  geometry       lon        lat  \n",
       "4564    POINT (1.4996220667 43.1866045103)  1.499622  43.186605  \n",
       "21676  POINT (2.08031337654 43.4412492469)  2.080313  43.441249  \n",
       "28642  POINT (1.43167293364 43.5963814303)  1.431673  43.596381  \n",
       "16050  POINT (1.44856431622 44.0815971851)  1.448564  44.081597  \n",
       "\n",
       "[4 rows x 86 columns]"
      ]
     },
     "execution_count": 3,
     "metadata": {},
     "output_type": "execute_result"
    }
   ],
   "source": [
    "gdf = gpd.read_file(fname)\n",
    "gdf = gdf[gdf.geometry.notnull()]\n",
    "gdf['lon'] = gdf.geometry.apply(lambda p: p.x)\n",
    "gdf['lat'] = gdf.geometry.apply(lambda p: p.y)\n",
    "gdf.sample(4)"
   ]
  },
  {
   "cell_type": "code",
   "execution_count": 4,
   "metadata": {},
   "outputs": [
    {
     "name": "stdout",
     "output_type": "stream",
     "text": [
      "size of the table: (32803, 86) \n",
      "\n",
      "Fields of the table:\n"
     ]
    },
    {
     "data": {
      "text/plain": [
       "Index(['inte', 'cada', 'cant', 'doss', 'murs', 'aire', 'zone', 'noms', 'appl',\n",
       "       'typo', 'dbor', 'ref', 'reg', 'coor', 'stat', 'jatt', 'etud', 'dpt',\n",
       "       'autr', 'date', 'copy', 'tico', 'insee', 'scle', 'denq', 'jdat', 'deno',\n",
       "       'com', 'obs', 'impl', 'esca', 'refe', 'vert', 'edif', 'coorm', 'coll',\n",
       "       'couv', 'lieu', 'wcom', 'etat', 'etag', 'dmaj', 'parn', 'toit', 'elev',\n",
       "       'adrs', 'vout', 'dims', 'pden', 'tech', 'remp', 'refp', 'part', 'scld',\n",
       "       'depl', 'hydr', 'prep', 'repr', 'doclie', 'pers', 'plan', 'visi',\n",
       "       'actu', 'site', 'renv', 'dpro', 'ppro', 'voca', 'apro', 'ener', 'genr',\n",
       "       'ploc', 'mhpp', 'psta', 'rema', 'paff', 'affe', 'domn', 'dmis', 'micr',\n",
       "       'mfich', 'sclx', 'web', 'geometry', 'lon', 'lat'],\n",
       "      dtype='object')"
      ]
     },
     "execution_count": 4,
     "metadata": {},
     "output_type": "execute_result"
    }
   ],
   "source": [
    "print('size of the table: {} \\n'.format(gdf.shape))\n",
    "print('Fields of the table:')\n",
    "gdf.columns"
   ]
  },
  {
   "cell_type": "markdown",
   "metadata": {},
   "source": [
    "#### <br> Heatmap"
   ]
  },
  {
   "cell_type": "code",
   "execution_count": 5,
   "metadata": {},
   "outputs": [
    {
     "data": {
      "application/vnd.jupyter.widget-view+json": {
       "model_id": "668748b8059e4427bf636f1461f036b9",
       "version_major": 2,
       "version_minor": 0
      },
      "text/plain": [
       "Map(basemap={'url': 'https://{s}.tile.openstreetmap.org/{z}/{x}/{y}.png', 'max_zoom': 19, 'attribution': 'Map …"
      ]
     },
     "metadata": {},
     "output_type": "display_data"
    }
   ],
   "source": [
    "terrain = basemap_to_tiles(basemaps.Stamen.Terrain)\n",
    "m = Map(layers=(terrain, ), center=occitanie_barycenter, zoom=default_zoom,\n",
    "       layout=Layout(width='100%', height='600px'))\n",
    "locations = list(zip(gdf.lat, gdf.lon))\n",
    "heatmap = Heatmap(locations=locations, radius=15)\n",
    "m.add_layer(heatmap)\n",
    "m"
   ]
  },
  {
   "cell_type": "markdown",
   "metadata": {},
   "source": [
    "#### <br> All records locations"
   ]
  },
  {
   "cell_type": "code",
   "execution_count": 7,
   "metadata": {},
   "outputs": [
    {
     "data": {
      "application/vnd.jupyter.widget-view+json": {
       "model_id": "e6c2ef2710a34b4fafe86c694f756198",
       "version_major": 2,
       "version_minor": 0
      },
      "text/plain": [
       "Map(basemap={'url': 'https://{s}.tile.openstreetmap.org/{z}/{x}/{y}.png', 'max_zoom': 19, 'attribution': 'Map …"
      ]
     },
     "metadata": {},
     "output_type": "display_data"
    }
   ],
   "source": [
    "m2 = Map(layers=(terrain, ), center=occitanie_barycenter, zoom=7, layout=Layout(width='100%', height='600px'))\n",
    "marker_list = []\n",
    "for i in range(gdf.shape[0]):\n",
    "    s = gdf.iloc[i]\n",
    "    marker_list.append(Marker(location=(s.lat, s.lon), draggable=False, title=s.tico))\n",
    "marker_cluster = MarkerCluster(markers=marker_list)\n",
    "m2.add_layer(marker_cluster)\n",
    "m2"
   ]
  },
  {
   "cell_type": "code",
   "execution_count": 9,
   "metadata": {},
   "outputs": [],
   "source": [
    "embed_minimal_html('occitanie_markers.html', views=[m2], title='Occitanie cultural heritage')"
   ]
  },
  {
   "cell_type": "markdown",
   "metadata": {},
   "source": [
    "#### <br> Top contributors"
   ]
  },
  {
   "cell_type": "code",
   "execution_count": 7,
   "metadata": {},
   "outputs": [
    {
     "data": {
      "text/plain": [
       "Séraphin Gilles ; Scellès Maurice             1479\n",
       "Friquart Louise-Emmanuelle ; Krispin Laure    1414\n",
       "Fock-Chow-Tho Cécile                          1332\n",
       "Gueguen Alexandra                             1082\n",
       "Vanacker Céline                               1025\n",
       "Servant Sonia                                 1006\n",
       "Comet Anaïs                                    977\n",
       "Wienin Michel                                  893\n",
       "Stadnicki Carole                               857\n",
       "Cassan Elodie                                  779\n",
       "Béa Adeline                                    722\n",
       "Chabbert Roland                                682\n",
       "Name: noms, dtype: int64"
      ]
     },
     "execution_count": 7,
     "metadata": {},
     "output_type": "execute_result"
    }
   ],
   "source": [
    "gdf['noms'].value_counts().nlargest(12)"
   ]
  },
  {
   "cell_type": "markdown",
   "metadata": {},
   "source": [
    "#### <br> Focus on one of the top contributors"
   ]
  },
  {
   "cell_type": "code",
   "execution_count": 7,
   "metadata": {},
   "outputs": [
    {
     "name": "stderr",
     "output_type": "stream",
     "text": [
      "100%|██████████| 682/682 [00:02<00:00, 325.12it/s]\n"
     ]
    },
    {
     "data": {
      "application/vnd.jupyter.widget-view+json": {
       "model_id": "a7abf45203a446e4b600fe6740ec9259",
       "version_major": 2,
       "version_minor": 0
      },
      "text/plain": [
       "Map(basemap={'url': 'https://{s}.tile.openstreetmap.org/{z}/{x}/{y}.png', 'max_zoom': 19, 'attribution': 'Map …"
      ]
     },
     "metadata": {},
     "output_type": "display_data"
    }
   ],
   "source": [
    "gdf3 = gdf.query('noms == \"Chabbert Roland\"')\n",
    "m3 = Map(layers=(terrain, ), center=occitanie_barycenter, zoom=7)\n",
    "marker_list_3 = []\n",
    "for i in trange(gdf3.shape[0]):\n",
    "    s = gdf3.iloc[i]\n",
    "    marker = Marker(location=(s.lat, s.lon), draggable=False, title=s.tico)\n",
    "    marker_list_3.append(marker)\n",
    "marker_cluster_3 = MarkerCluster(markers=marker_list_3)\n",
    "m3.add_layer(marker_cluster_3)\n",
    "m3"
   ]
  },
  {
   "cell_type": "code",
   "execution_count": null,
   "metadata": {},
   "outputs": [],
   "source": []
  }
 ],
 "metadata": {
  "kernelspec": {
   "display_name": "Python [default]",
   "language": "python",
   "name": "python3"
  },
  "language_info": {
   "codemirror_mode": {
    "name": "ipython",
    "version": 3
   },
   "file_extension": ".py",
   "mimetype": "text/x-python",
   "name": "python",
   "nbconvert_exporter": "python",
   "pygments_lexer": "ipython3",
   "version": "3.6.6"
  }
 },
 "nbformat": 4,
 "nbformat_minor": 2
}
