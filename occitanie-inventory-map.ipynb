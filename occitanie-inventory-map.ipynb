{
 "cells": [
  {
   "cell_type": "markdown",
   "metadata": {},
   "source": [
    "# Inventory records of cultural heritage of the French region Occitanie (Maps)"
   ]
  },
  {
   "cell_type": "markdown",
   "metadata": {},
   "source": [
    "#### Open data files (incl. geojson) can be found here: https://www.data.gouv.fr/fr/datasets/5bfdeafa9ce2e70269bea587/"
   ]
  },
  {
   "cell_type": "code",
   "execution_count": 1,
   "metadata": {},
   "outputs": [],
   "source": [
    "fname = \"inventaire-general-du-patrimoine-culturel-doccitanie.geojson\"\n",
    "occitanie_barycenter = (43.6685, 2.226)\n",
    "default_zoom = 8"
   ]
  },
  {
   "cell_type": "code",
   "execution_count": 2,
   "metadata": {},
   "outputs": [],
   "source": [
    "import geopandas as gpd\n",
    "from ipyleaflet import Map, Heatmap, basemaps, basemap_to_tiles, Marker, MarkerCluster"
   ]
  },
  {
   "cell_type": "markdown",
   "metadata": {},
   "source": [
    "#### <br> Loading data as a table (pandas dataframe)"
   ]
  },
  {
   "cell_type": "code",
   "execution_count": 3,
   "metadata": {},
   "outputs": [
    {
     "data": {
      "text/html": [
       "<div>\n",
       "<style scoped>\n",
       "    .dataframe tbody tr th:only-of-type {\n",
       "        vertical-align: middle;\n",
       "    }\n",
       "\n",
       "    .dataframe tbody tr th {\n",
       "        vertical-align: top;\n",
       "    }\n",
       "\n",
       "    .dataframe thead th {\n",
       "        text-align: right;\n",
       "    }\n",
       "</style>\n",
       "<table border=\"1\" class=\"dataframe\">\n",
       "  <thead>\n",
       "    <tr style=\"text-align: right;\">\n",
       "      <th></th>\n",
       "      <th>inte</th>\n",
       "      <th>cada</th>\n",
       "      <th>cant</th>\n",
       "      <th>doss</th>\n",
       "      <th>murs</th>\n",
       "      <th>aire</th>\n",
       "      <th>zone</th>\n",
       "      <th>noms</th>\n",
       "      <th>appl</th>\n",
       "      <th>typo</th>\n",
       "      <th>...</th>\n",
       "      <th>affe</th>\n",
       "      <th>domn</th>\n",
       "      <th>dmis</th>\n",
       "      <th>micr</th>\n",
       "      <th>mfich</th>\n",
       "      <th>sclx</th>\n",
       "      <th>web</th>\n",
       "      <th>geometry</th>\n",
       "      <th>lon</th>\n",
       "      <th>lat</th>\n",
       "    </tr>\n",
       "  </thead>\n",
       "  <tbody>\n",
       "    <tr>\n",
       "      <th>4740</th>\n",
       "      <td>None</td>\n",
       "      <td>2011 H 483</td>\n",
       "      <td>Gaillac</td>\n",
       "      <td>dossier individuel</td>\n",
       "      <td>bois ; pan de bois ; brique</td>\n",
       "      <td>Pays du Vignoble Gaillacois, Bastides et Val D...</td>\n",
       "      <td>Lambert0</td>\n",
       "      <td>Piot Pauline</td>\n",
       "      <td>None</td>\n",
       "      <td>None</td>\n",
       "      <td>...</td>\n",
       "      <td>None</td>\n",
       "      <td>None</td>\n",
       "      <td>None</td>\n",
       "      <td>None</td>\n",
       "      <td>None</td>\n",
       "      <td>None</td>\n",
       "      <td>None</td>\n",
       "      <td>POINT (1.78200143861 43.8974980421)</td>\n",
       "      <td>1.782001</td>\n",
       "      <td>43.897498</td>\n",
       "    </tr>\n",
       "    <tr>\n",
       "      <th>26818</th>\n",
       "      <td>None</td>\n",
       "      <td>2011 310815AB0468</td>\n",
       "      <td>None</td>\n",
       "      <td>dossier individuel</td>\n",
       "      <td>brique ; enduit</td>\n",
       "      <td>Toulouse centre</td>\n",
       "      <td>Lambert3</td>\n",
       "      <td>Friquart Louise-Emmanuelle ; Krispin Laure</td>\n",
       "      <td>None</td>\n",
       "      <td>None</td>\n",
       "      <td>...</td>\n",
       "      <td>None</td>\n",
       "      <td>None</td>\n",
       "      <td>None</td>\n",
       "      <td>None</td>\n",
       "      <td>None</td>\n",
       "      <td>None</td>\n",
       "      <td>None</td>\n",
       "      <td>POINT (1.43167293364 43.5963814303)</td>\n",
       "      <td>1.431673</td>\n",
       "      <td>43.596381</td>\n",
       "    </tr>\n",
       "    <tr>\n",
       "      <th>26690</th>\n",
       "      <td>None</td>\n",
       "      <td>2014 AI 149</td>\n",
       "      <td>None</td>\n",
       "      <td>dossier individuel</td>\n",
       "      <td>calcaire ; moellon</td>\n",
       "      <td>Grand Auch</td>\n",
       "      <td>Lambert0</td>\n",
       "      <td>Launay Yann</td>\n",
       "      <td>None</td>\n",
       "      <td>None</td>\n",
       "      <td>...</td>\n",
       "      <td>None</td>\n",
       "      <td>None</td>\n",
       "      <td>None</td>\n",
       "      <td>None</td>\n",
       "      <td>None</td>\n",
       "      <td>None</td>\n",
       "      <td>None</td>\n",
       "      <td>POINT (0.589850870884 43.605614575)</td>\n",
       "      <td>0.589851</td>\n",
       "      <td>43.605615</td>\n",
       "    </tr>\n",
       "    <tr>\n",
       "      <th>23628</th>\n",
       "      <td>None</td>\n",
       "      <td>2011 AB 125</td>\n",
       "      <td>Bretenoux</td>\n",
       "      <td>dossier individuel</td>\n",
       "      <td>maçonnerie (?) ; crépi moucheté ; enduit d'imi...</td>\n",
       "      <td>None</td>\n",
       "      <td>Lambert0</td>\n",
       "      <td>Cassan Elodie</td>\n",
       "      <td>None</td>\n",
       "      <td>maison individuelle à étage en surcroît ; isol...</td>\n",
       "      <td>...</td>\n",
       "      <td>None</td>\n",
       "      <td>None</td>\n",
       "      <td>None</td>\n",
       "      <td>None</td>\n",
       "      <td>None</td>\n",
       "      <td>None</td>\n",
       "      <td>None</td>\n",
       "      <td>POINT (1.85705877079 44.9281999917)</td>\n",
       "      <td>1.857059</td>\n",
       "      <td>44.928200</td>\n",
       "    </tr>\n",
       "  </tbody>\n",
       "</table>\n",
       "<p>4 rows × 86 columns</p>\n",
       "</div>"
      ],
      "text/plain": [
       "       inte               cada       cant                doss  \\\n",
       "4740   None         2011 H 483    Gaillac  dossier individuel   \n",
       "26818  None  2011 310815AB0468       None  dossier individuel   \n",
       "26690  None        2014 AI 149       None  dossier individuel   \n",
       "23628  None        2011 AB 125  Bretenoux  dossier individuel   \n",
       "\n",
       "                                                    murs  \\\n",
       "4740                         bois ; pan de bois ; brique   \n",
       "26818                                    brique ; enduit   \n",
       "26690                                 calcaire ; moellon   \n",
       "23628  maçonnerie (?) ; crépi moucheté ; enduit d'imi...   \n",
       "\n",
       "                                                    aire      zone  \\\n",
       "4740   Pays du Vignoble Gaillacois, Bastides et Val D...  Lambert0   \n",
       "26818                                    Toulouse centre  Lambert3   \n",
       "26690                                         Grand Auch  Lambert0   \n",
       "23628                                               None  Lambert0   \n",
       "\n",
       "                                             noms  appl  \\\n",
       "4740                                 Piot Pauline  None   \n",
       "26818  Friquart Louise-Emmanuelle ; Krispin Laure  None   \n",
       "26690                                 Launay Yann  None   \n",
       "23628                               Cassan Elodie  None   \n",
       "\n",
       "                                                    typo    ...      affe  \\\n",
       "4740                                                None    ...      None   \n",
       "26818                                               None    ...      None   \n",
       "26690                                               None    ...      None   \n",
       "23628  maison individuelle à étage en surcroît ; isol...    ...      None   \n",
       "\n",
       "       domn  dmis  micr mfich  sclx   web  \\\n",
       "4740   None  None  None  None  None  None   \n",
       "26818  None  None  None  None  None  None   \n",
       "26690  None  None  None  None  None  None   \n",
       "23628  None  None  None  None  None  None   \n",
       "\n",
       "                                  geometry       lon        lat  \n",
       "4740   POINT (1.78200143861 43.8974980421)  1.782001  43.897498  \n",
       "26818  POINT (1.43167293364 43.5963814303)  1.431673  43.596381  \n",
       "26690  POINT (0.589850870884 43.605614575)  0.589851  43.605615  \n",
       "23628  POINT (1.85705877079 44.9281999917)  1.857059  44.928200  \n",
       "\n",
       "[4 rows x 86 columns]"
      ]
     },
     "execution_count": 3,
     "metadata": {},
     "output_type": "execute_result"
    }
   ],
   "source": [
    "gdf = gpd.read_file(fname)\n",
    "gdf = gdf[gdf.geometry.notnull()]\n",
    "gdf['lon'] = gdf.geometry.apply(lambda p: p.x)\n",
    "gdf['lat'] = gdf.geometry.apply(lambda p: p.y)\n",
    "gdf.sample(4)"
   ]
  },
  {
   "cell_type": "code",
   "execution_count": 4,
   "metadata": {},
   "outputs": [
    {
     "name": "stdout",
     "output_type": "stream",
     "text": [
      "size of the table: (32803, 86) \n",
      "\n",
      "Fields of the table:\n"
     ]
    },
    {
     "data": {
      "text/plain": [
       "Index(['inte', 'cada', 'cant', 'doss', 'murs', 'aire', 'zone', 'noms', 'appl',\n",
       "       'typo', 'dbor', 'ref', 'reg', 'coor', 'stat', 'jatt', 'etud', 'dpt',\n",
       "       'autr', 'date', 'copy', 'tico', 'insee', 'scle', 'denq', 'jdat', 'deno',\n",
       "       'com', 'obs', 'impl', 'esca', 'refe', 'vert', 'edif', 'coorm', 'coll',\n",
       "       'couv', 'lieu', 'wcom', 'etat', 'etag', 'dmaj', 'parn', 'toit', 'elev',\n",
       "       'adrs', 'vout', 'dims', 'pden', 'tech', 'remp', 'refp', 'part', 'scld',\n",
       "       'depl', 'hydr', 'prep', 'repr', 'doclie', 'pers', 'plan', 'visi',\n",
       "       'actu', 'site', 'renv', 'dpro', 'ppro', 'voca', 'apro', 'ener', 'genr',\n",
       "       'ploc', 'mhpp', 'psta', 'rema', 'paff', 'affe', 'domn', 'dmis', 'micr',\n",
       "       'mfich', 'sclx', 'web', 'geometry', 'lon', 'lat'],\n",
       "      dtype='object')"
      ]
     },
     "execution_count": 4,
     "metadata": {},
     "output_type": "execute_result"
    }
   ],
   "source": [
    "print('size of the table: {} \\n'.format(gdf.shape))\n",
    "print('Fields of the table:')\n",
    "gdf.columns"
   ]
  },
  {
   "cell_type": "markdown",
   "metadata": {},
   "source": [
    "#### <br> Heatmap"
   ]
  },
  {
   "cell_type": "code",
   "execution_count": 5,
   "metadata": {},
   "outputs": [
    {
     "data": {
      "application/vnd.jupyter.widget-view+json": {
       "model_id": "b54b2828cbac433587455d0391cd38a2",
       "version_major": 2,
       "version_minor": 0
      },
      "text/plain": [
       "Map(basemap={'url': 'https://{s}.tile.openstreetmap.org/{z}/{x}/{y}.png', 'max_zoom': 19, 'attribution': 'Map …"
      ]
     },
     "metadata": {},
     "output_type": "display_data"
    }
   ],
   "source": [
    "terrain = basemap_to_tiles(basemaps.Stamen.Terrain)\n",
    "m = Map(layers=(terrain, ), center=occitanie_barycenter, zoom=default_zoom)\n",
    "locations = list(zip(gdf.lat, gdf.lon))\n",
    "heatmap = Heatmap(locations=locations, radius=15)\n",
    "m.add_layer(heatmap)\n",
    "m"
   ]
  },
  {
   "cell_type": "markdown",
   "metadata": {},
   "source": [
    "#### <br> All records locations"
   ]
  },
  {
   "cell_type": "code",
   "execution_count": 6,
   "metadata": {},
   "outputs": [
    {
     "data": {
      "application/vnd.jupyter.widget-view+json": {
       "model_id": "f9ee92bd20ea4fd8b924daf5a3ded54c",
       "version_major": 2,
       "version_minor": 0
      },
      "text/plain": [
       "Map(basemap={'url': 'https://{s}.tile.openstreetmap.org/{z}/{x}/{y}.png', 'max_zoom': 19, 'attribution': 'Map …"
      ]
     },
     "metadata": {},
     "output_type": "display_data"
    }
   ],
   "source": [
    "m2 = Map(layers=(terrain, ), center=occitanie_barycenter, zoom=7)\n",
    "marker_list = []\n",
    "for i in range(gdf.shape[0]):\n",
    "    s = gdf.iloc[i]\n",
    "    marker_list.append(Marker(location=(s.lat, s.lon), draggable=False, title=s.tico))\n",
    "marker_cluster = MarkerCluster(\n",
    "    markers=marker_list\n",
    ")\n",
    "m2.add_layer(marker_cluster)\n",
    "m2"
   ]
  },
  {
   "cell_type": "markdown",
   "metadata": {},
   "source": [
    "#### <br> Top contributors"
   ]
  },
  {
   "cell_type": "code",
   "execution_count": 7,
   "metadata": {},
   "outputs": [
    {
     "data": {
      "text/plain": [
       "Séraphin Gilles ; Scellès Maurice             1479\n",
       "Friquart Louise-Emmanuelle ; Krispin Laure    1414\n",
       "Fock-Chow-Tho Cécile                          1332\n",
       "Gueguen Alexandra                             1082\n",
       "Vanacker Céline                               1025\n",
       "Servant Sonia                                 1006\n",
       "Comet Anaïs                                    977\n",
       "Wienin Michel                                  893\n",
       "Stadnicki Carole                               857\n",
       "Cassan Elodie                                  779\n",
       "Béa Adeline                                    722\n",
       "Chabbert Roland                                682\n",
       "Name: noms, dtype: int64"
      ]
     },
     "execution_count": 7,
     "metadata": {},
     "output_type": "execute_result"
    }
   ],
   "source": [
    "gdf['noms'].value_counts().nlargest(12)"
   ]
  },
  {
   "cell_type": "markdown",
   "metadata": {},
   "source": [
    "#### <br> Focus on one of the top contributors"
   ]
  },
  {
   "cell_type": "code",
   "execution_count": 8,
   "metadata": {},
   "outputs": [
    {
     "data": {
      "application/vnd.jupyter.widget-view+json": {
       "model_id": "b45ee01147ec4a9cb9c390b89b26751f",
       "version_major": 2,
       "version_minor": 0
      },
      "text/plain": [
       "Map(basemap={'url': 'https://{s}.tile.openstreetmap.org/{z}/{x}/{y}.png', 'max_zoom': 19, 'attribution': 'Map …"
      ]
     },
     "metadata": {},
     "output_type": "display_data"
    }
   ],
   "source": [
    "gdf3 = gdf.query('noms == \"Chabbert Roland\"')\n",
    "m3 = Map(layers=(terrain, ), center=occitanie_barycenter, zoom=7)\n",
    "marker_list_3 = []\n",
    "for i in range(gdf3.shape[0]):\n",
    "    s = gdf3.iloc[i]\n",
    "    marker = Marker(location=(s.lat, s.lon), draggable=False, title=s.tico)\n",
    "    marker_list_3.append(marker)\n",
    "marker_cluster_3 = MarkerCluster(markers=marker_list_3)\n",
    "m3.add_layer(marker_cluster_3)\n",
    "m3"
   ]
  }
 ],
 "metadata": {
  "kernelspec": {
   "display_name": "Python [default]",
   "language": "python",
   "name": "python3"
  },
  "language_info": {
   "codemirror_mode": {
    "name": "ipython",
    "version": 3
   },
   "file_extension": ".py",
   "mimetype": "text/x-python",
   "name": "python",
   "nbconvert_exporter": "python",
   "pygments_lexer": "ipython3",
   "version": "3.6.6"
  }
 },
 "nbformat": 4,
 "nbformat_minor": 2
}
